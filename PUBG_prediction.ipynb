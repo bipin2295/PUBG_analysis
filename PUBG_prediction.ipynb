{
 "cells": [
  {
   "cell_type": "markdown",
   "metadata": {},
   "source": [
    "## PUBG Finish Placement Prediction"
   ]
  },
  {
   "cell_type": "markdown",
   "metadata": {},
   "source": [
    "### Data loading and initial analysis"
   ]
  },
  {
   "cell_type": "code",
   "execution_count": 2,
   "metadata": {},
   "outputs": [],
   "source": [
    "import numpy as np\n",
    "import pandas as pd"
   ]
  },
  {
   "cell_type": "code",
   "execution_count": 3,
   "metadata": {},
   "outputs": [],
   "source": [
    "#pubg_train = pd.read_csv('train.csv')\n",
    "#pubg_test = pd.read_csv('test.csv') \n",
    "#Working with only 1000000 rows.\n",
    "\n",
    "pubg_train = pd.read_csv('train.csv',nrows=1000000)\n",
    "pubg_test = pd.read_csv('test.csv',nrows=1000000) "
   ]
  },
  {
   "cell_type": "code",
   "execution_count": 3,
   "metadata": {},
   "outputs": [
    {
     "data": {
      "text/html": [
       "<div>\n",
       "<style scoped>\n",
       "    .dataframe tbody tr th:only-of-type {\n",
       "        vertical-align: middle;\n",
       "    }\n",
       "\n",
       "    .dataframe tbody tr th {\n",
       "        vertical-align: top;\n",
       "    }\n",
       "\n",
       "    .dataframe thead th {\n",
       "        text-align: right;\n",
       "    }\n",
       "</style>\n",
       "<table border=\"1\" class=\"dataframe\">\n",
       "  <thead>\n",
       "    <tr style=\"text-align: right;\">\n",
       "      <th></th>\n",
       "      <th>Id</th>\n",
       "      <th>groupId</th>\n",
       "      <th>matchId</th>\n",
       "      <th>assists</th>\n",
       "      <th>boosts</th>\n",
       "      <th>damageDealt</th>\n",
       "      <th>DBNOs</th>\n",
       "      <th>headshotKills</th>\n",
       "      <th>heals</th>\n",
       "      <th>killPlace</th>\n",
       "      <th>...</th>\n",
       "      <th>revives</th>\n",
       "      <th>rideDistance</th>\n",
       "      <th>roadKills</th>\n",
       "      <th>swimDistance</th>\n",
       "      <th>teamKills</th>\n",
       "      <th>vehicleDestroys</th>\n",
       "      <th>walkDistance</th>\n",
       "      <th>weaponsAcquired</th>\n",
       "      <th>winPoints</th>\n",
       "      <th>winPlacePerc</th>\n",
       "    </tr>\n",
       "  </thead>\n",
       "  <tbody>\n",
       "    <tr>\n",
       "      <th>0</th>\n",
       "      <td>0</td>\n",
       "      <td>24</td>\n",
       "      <td>0</td>\n",
       "      <td>0</td>\n",
       "      <td>5</td>\n",
       "      <td>247.30</td>\n",
       "      <td>2</td>\n",
       "      <td>0</td>\n",
       "      <td>4</td>\n",
       "      <td>17</td>\n",
       "      <td>...</td>\n",
       "      <td>1</td>\n",
       "      <td>591.3</td>\n",
       "      <td>0</td>\n",
       "      <td>0.0</td>\n",
       "      <td>0</td>\n",
       "      <td>0</td>\n",
       "      <td>782.40</td>\n",
       "      <td>4</td>\n",
       "      <td>1458</td>\n",
       "      <td>0.8571</td>\n",
       "    </tr>\n",
       "    <tr>\n",
       "      <th>1</th>\n",
       "      <td>1</td>\n",
       "      <td>440875</td>\n",
       "      <td>1</td>\n",
       "      <td>1</td>\n",
       "      <td>0</td>\n",
       "      <td>37.65</td>\n",
       "      <td>1</td>\n",
       "      <td>1</td>\n",
       "      <td>0</td>\n",
       "      <td>45</td>\n",
       "      <td>...</td>\n",
       "      <td>0</td>\n",
       "      <td>0.0</td>\n",
       "      <td>0</td>\n",
       "      <td>0.0</td>\n",
       "      <td>0</td>\n",
       "      <td>0</td>\n",
       "      <td>119.60</td>\n",
       "      <td>3</td>\n",
       "      <td>1511</td>\n",
       "      <td>0.0400</td>\n",
       "    </tr>\n",
       "    <tr>\n",
       "      <th>2</th>\n",
       "      <td>2</td>\n",
       "      <td>878242</td>\n",
       "      <td>2</td>\n",
       "      <td>0</td>\n",
       "      <td>1</td>\n",
       "      <td>93.73</td>\n",
       "      <td>1</td>\n",
       "      <td>0</td>\n",
       "      <td>2</td>\n",
       "      <td>54</td>\n",
       "      <td>...</td>\n",
       "      <td>1</td>\n",
       "      <td>0.0</td>\n",
       "      <td>0</td>\n",
       "      <td>0.0</td>\n",
       "      <td>0</td>\n",
       "      <td>0</td>\n",
       "      <td>3248.00</td>\n",
       "      <td>5</td>\n",
       "      <td>1583</td>\n",
       "      <td>0.7407</td>\n",
       "    </tr>\n",
       "    <tr>\n",
       "      <th>3</th>\n",
       "      <td>3</td>\n",
       "      <td>1319841</td>\n",
       "      <td>3</td>\n",
       "      <td>0</td>\n",
       "      <td>0</td>\n",
       "      <td>95.88</td>\n",
       "      <td>0</td>\n",
       "      <td>0</td>\n",
       "      <td>0</td>\n",
       "      <td>86</td>\n",
       "      <td>...</td>\n",
       "      <td>0</td>\n",
       "      <td>0.0</td>\n",
       "      <td>0</td>\n",
       "      <td>0.0</td>\n",
       "      <td>0</td>\n",
       "      <td>0</td>\n",
       "      <td>21.49</td>\n",
       "      <td>1</td>\n",
       "      <td>1489</td>\n",
       "      <td>0.1146</td>\n",
       "    </tr>\n",
       "    <tr>\n",
       "      <th>4</th>\n",
       "      <td>4</td>\n",
       "      <td>1757883</td>\n",
       "      <td>4</td>\n",
       "      <td>0</td>\n",
       "      <td>1</td>\n",
       "      <td>0.00</td>\n",
       "      <td>0</td>\n",
       "      <td>0</td>\n",
       "      <td>1</td>\n",
       "      <td>58</td>\n",
       "      <td>...</td>\n",
       "      <td>0</td>\n",
       "      <td>0.0</td>\n",
       "      <td>0</td>\n",
       "      <td>0.0</td>\n",
       "      <td>0</td>\n",
       "      <td>0</td>\n",
       "      <td>640.80</td>\n",
       "      <td>4</td>\n",
       "      <td>1475</td>\n",
       "      <td>0.5217</td>\n",
       "    </tr>\n",
       "    <tr>\n",
       "      <th>5</th>\n",
       "      <td>5</td>\n",
       "      <td>2200824</td>\n",
       "      <td>5</td>\n",
       "      <td>0</td>\n",
       "      <td>2</td>\n",
       "      <td>128.10</td>\n",
       "      <td>0</td>\n",
       "      <td>0</td>\n",
       "      <td>0</td>\n",
       "      <td>25</td>\n",
       "      <td>...</td>\n",
       "      <td>0</td>\n",
       "      <td>2221.0</td>\n",
       "      <td>0</td>\n",
       "      <td>0.0</td>\n",
       "      <td>0</td>\n",
       "      <td>0</td>\n",
       "      <td>1016.00</td>\n",
       "      <td>4</td>\n",
       "      <td>1500</td>\n",
       "      <td>0.9368</td>\n",
       "    </tr>\n",
       "  </tbody>\n",
       "</table>\n",
       "<p>6 rows × 26 columns</p>\n",
       "</div>"
      ],
      "text/plain": [
       "   Id  groupId  matchId  assists  boosts  damageDealt  DBNOs  headshotKills  \\\n",
       "0   0       24        0        0       5       247.30      2              0   \n",
       "1   1   440875        1        1       0        37.65      1              1   \n",
       "2   2   878242        2        0       1        93.73      1              0   \n",
       "3   3  1319841        3        0       0        95.88      0              0   \n",
       "4   4  1757883        4        0       1         0.00      0              0   \n",
       "5   5  2200824        5        0       2       128.10      0              0   \n",
       "\n",
       "   heals  killPlace      ...       revives  rideDistance  roadKills  \\\n",
       "0      4         17      ...             1         591.3          0   \n",
       "1      0         45      ...             0           0.0          0   \n",
       "2      2         54      ...             1           0.0          0   \n",
       "3      0         86      ...             0           0.0          0   \n",
       "4      1         58      ...             0           0.0          0   \n",
       "5      0         25      ...             0        2221.0          0   \n",
       "\n",
       "   swimDistance  teamKills  vehicleDestroys  walkDistance  weaponsAcquired  \\\n",
       "0           0.0          0                0        782.40                4   \n",
       "1           0.0          0                0        119.60                3   \n",
       "2           0.0          0                0       3248.00                5   \n",
       "3           0.0          0                0         21.49                1   \n",
       "4           0.0          0                0        640.80                4   \n",
       "5           0.0          0                0       1016.00                4   \n",
       "\n",
       "   winPoints  winPlacePerc  \n",
       "0       1458        0.8571  \n",
       "1       1511        0.0400  \n",
       "2       1583        0.7407  \n",
       "3       1489        0.1146  \n",
       "4       1475        0.5217  \n",
       "5       1500        0.9368  \n",
       "\n",
       "[6 rows x 26 columns]"
      ]
     },
     "execution_count": 3,
     "metadata": {},
     "output_type": "execute_result"
    }
   ],
   "source": [
    "pubg_train.head(6)"
   ]
  },
  {
   "cell_type": "code",
   "execution_count": 4,
   "metadata": {},
   "outputs": [
    {
     "name": "stdout",
     "output_type": "stream",
     "text": [
      "Max yval  1.0\n"
     ]
    }
   ],
   "source": [
    "print(\"Max yval \",pubg_train['winPlacePerc'].max())"
   ]
  },
  {
   "cell_type": "code",
   "execution_count": 5,
   "metadata": {},
   "outputs": [
    {
     "name": "stdout",
     "output_type": "stream",
     "text": [
      "Min yval  0.0\n"
     ]
    }
   ],
   "source": [
    "print(\"Min yval \",pubg_train['winPlacePerc'].min())"
   ]
  },
  {
   "cell_type": "code",
   "execution_count": 6,
   "metadata": {},
   "outputs": [
    {
     "data": {
      "text/html": [
       "<div>\n",
       "<style scoped>\n",
       "    .dataframe tbody tr th:only-of-type {\n",
       "        vertical-align: middle;\n",
       "    }\n",
       "\n",
       "    .dataframe tbody tr th {\n",
       "        vertical-align: top;\n",
       "    }\n",
       "\n",
       "    .dataframe thead th {\n",
       "        text-align: right;\n",
       "    }\n",
       "</style>\n",
       "<table border=\"1\" class=\"dataframe\">\n",
       "  <thead>\n",
       "    <tr style=\"text-align: right;\">\n",
       "      <th></th>\n",
       "      <th>Id</th>\n",
       "      <th>groupId</th>\n",
       "      <th>matchId</th>\n",
       "      <th>assists</th>\n",
       "      <th>boosts</th>\n",
       "      <th>damageDealt</th>\n",
       "      <th>DBNOs</th>\n",
       "      <th>headshotKills</th>\n",
       "      <th>heals</th>\n",
       "      <th>killPlace</th>\n",
       "      <th>...</th>\n",
       "      <th>numGroups</th>\n",
       "      <th>revives</th>\n",
       "      <th>rideDistance</th>\n",
       "      <th>roadKills</th>\n",
       "      <th>swimDistance</th>\n",
       "      <th>teamKills</th>\n",
       "      <th>vehicleDestroys</th>\n",
       "      <th>walkDistance</th>\n",
       "      <th>weaponsAcquired</th>\n",
       "      <th>winPoints</th>\n",
       "    </tr>\n",
       "  </thead>\n",
       "  <tbody>\n",
       "    <tr>\n",
       "      <th>0</th>\n",
       "      <td>47734</td>\n",
       "      <td>1659463</td>\n",
       "      <td>47734</td>\n",
       "      <td>0</td>\n",
       "      <td>0</td>\n",
       "      <td>100.0</td>\n",
       "      <td>1</td>\n",
       "      <td>0</td>\n",
       "      <td>0</td>\n",
       "      <td>59</td>\n",
       "      <td>...</td>\n",
       "      <td>45</td>\n",
       "      <td>0</td>\n",
       "      <td>0.0</td>\n",
       "      <td>0</td>\n",
       "      <td>0.0</td>\n",
       "      <td>1</td>\n",
       "      <td>0</td>\n",
       "      <td>421.50</td>\n",
       "      <td>7</td>\n",
       "      <td>1500</td>\n",
       "    </tr>\n",
       "    <tr>\n",
       "      <th>1</th>\n",
       "      <td>47735</td>\n",
       "      <td>1659508</td>\n",
       "      <td>47735</td>\n",
       "      <td>0</td>\n",
       "      <td>1</td>\n",
       "      <td>400.0</td>\n",
       "      <td>2</td>\n",
       "      <td>0</td>\n",
       "      <td>3</td>\n",
       "      <td>9</td>\n",
       "      <td>...</td>\n",
       "      <td>47</td>\n",
       "      <td>1</td>\n",
       "      <td>0.0</td>\n",
       "      <td>0</td>\n",
       "      <td>0.0</td>\n",
       "      <td>0</td>\n",
       "      <td>0</td>\n",
       "      <td>655.80</td>\n",
       "      <td>4</td>\n",
       "      <td>1526</td>\n",
       "    </tr>\n",
       "    <tr>\n",
       "      <th>2</th>\n",
       "      <td>47736</td>\n",
       "      <td>1659555</td>\n",
       "      <td>47736</td>\n",
       "      <td>0</td>\n",
       "      <td>0</td>\n",
       "      <td>0.0</td>\n",
       "      <td>0</td>\n",
       "      <td>0</td>\n",
       "      <td>0</td>\n",
       "      <td>72</td>\n",
       "      <td>...</td>\n",
       "      <td>28</td>\n",
       "      <td>0</td>\n",
       "      <td>0.0</td>\n",
       "      <td>0</td>\n",
       "      <td>0.0</td>\n",
       "      <td>0</td>\n",
       "      <td>0</td>\n",
       "      <td>74.58</td>\n",
       "      <td>1</td>\n",
       "      <td>1475</td>\n",
       "    </tr>\n",
       "    <tr>\n",
       "      <th>3</th>\n",
       "      <td>47737</td>\n",
       "      <td>1659621</td>\n",
       "      <td>47737</td>\n",
       "      <td>0</td>\n",
       "      <td>0</td>\n",
       "      <td>68.6</td>\n",
       "      <td>0</td>\n",
       "      <td>0</td>\n",
       "      <td>0</td>\n",
       "      <td>68</td>\n",
       "      <td>...</td>\n",
       "      <td>92</td>\n",
       "      <td>0</td>\n",
       "      <td>0.0</td>\n",
       "      <td>0</td>\n",
       "      <td>0.0</td>\n",
       "      <td>0</td>\n",
       "      <td>0</td>\n",
       "      <td>167.20</td>\n",
       "      <td>2</td>\n",
       "      <td>1464</td>\n",
       "    </tr>\n",
       "    <tr>\n",
       "      <th>4</th>\n",
       "      <td>47738</td>\n",
       "      <td>1659675</td>\n",
       "      <td>47738</td>\n",
       "      <td>0</td>\n",
       "      <td>1</td>\n",
       "      <td>370.5</td>\n",
       "      <td>3</td>\n",
       "      <td>0</td>\n",
       "      <td>1</td>\n",
       "      <td>45</td>\n",
       "      <td>...</td>\n",
       "      <td>26</td>\n",
       "      <td>0</td>\n",
       "      <td>0.0</td>\n",
       "      <td>0</td>\n",
       "      <td>0.0</td>\n",
       "      <td>0</td>\n",
       "      <td>0</td>\n",
       "      <td>146.70</td>\n",
       "      <td>3</td>\n",
       "      <td>1505</td>\n",
       "    </tr>\n",
       "  </tbody>\n",
       "</table>\n",
       "<p>5 rows × 25 columns</p>\n",
       "</div>"
      ],
      "text/plain": [
       "      Id  groupId  matchId  assists  boosts  damageDealt  DBNOs  \\\n",
       "0  47734  1659463    47734        0       0        100.0      1   \n",
       "1  47735  1659508    47735        0       1        400.0      2   \n",
       "2  47736  1659555    47736        0       0          0.0      0   \n",
       "3  47737  1659621    47737        0       0         68.6      0   \n",
       "4  47738  1659675    47738        0       1        370.5      3   \n",
       "\n",
       "   headshotKills  heals  killPlace    ...      numGroups  revives  \\\n",
       "0              0      0         59    ...             45        0   \n",
       "1              0      3          9    ...             47        1   \n",
       "2              0      0         72    ...             28        0   \n",
       "3              0      0         68    ...             92        0   \n",
       "4              0      1         45    ...             26        0   \n",
       "\n",
       "   rideDistance  roadKills  swimDistance  teamKills  vehicleDestroys  \\\n",
       "0           0.0          0           0.0          1                0   \n",
       "1           0.0          0           0.0          0                0   \n",
       "2           0.0          0           0.0          0                0   \n",
       "3           0.0          0           0.0          0                0   \n",
       "4           0.0          0           0.0          0                0   \n",
       "\n",
       "   walkDistance  weaponsAcquired  winPoints  \n",
       "0        421.50                7       1500  \n",
       "1        655.80                4       1526  \n",
       "2         74.58                1       1475  \n",
       "3        167.20                2       1464  \n",
       "4        146.70                3       1505  \n",
       "\n",
       "[5 rows x 25 columns]"
      ]
     },
     "execution_count": 6,
     "metadata": {},
     "output_type": "execute_result"
    }
   ],
   "source": [
    "pubg_test.head()"
   ]
  },
  {
   "cell_type": "code",
   "execution_count": 7,
   "metadata": {},
   "outputs": [
    {
     "name": "stdout",
     "output_type": "stream",
     "text": [
      "<class 'pandas.core.frame.DataFrame'>\n",
      "RangeIndex: 1000000 entries, 0 to 999999\n",
      "Data columns (total 26 columns):\n",
      "Id                 1000000 non-null int64\n",
      "groupId            1000000 non-null int64\n",
      "matchId            1000000 non-null int64\n",
      "assists            1000000 non-null int64\n",
      "boosts             1000000 non-null int64\n",
      "damageDealt        1000000 non-null float64\n",
      "DBNOs              1000000 non-null int64\n",
      "headshotKills      1000000 non-null int64\n",
      "heals              1000000 non-null int64\n",
      "killPlace          1000000 non-null int64\n",
      "killPoints         1000000 non-null int64\n",
      "kills              1000000 non-null int64\n",
      "killStreaks        1000000 non-null int64\n",
      "longestKill        1000000 non-null float64\n",
      "maxPlace           1000000 non-null int64\n",
      "numGroups          1000000 non-null int64\n",
      "revives            1000000 non-null int64\n",
      "rideDistance       1000000 non-null float64\n",
      "roadKills          1000000 non-null int64\n",
      "swimDistance       1000000 non-null float64\n",
      "teamKills          1000000 non-null int64\n",
      "vehicleDestroys    1000000 non-null int64\n",
      "walkDistance       1000000 non-null float64\n",
      "weaponsAcquired    1000000 non-null int64\n",
      "winPoints          1000000 non-null int64\n",
      "winPlacePerc       1000000 non-null float64\n",
      "dtypes: float64(6), int64(20)\n",
      "memory usage: 198.4 MB\n"
     ]
    }
   ],
   "source": [
    "pubg_train.info()"
   ]
  },
  {
   "cell_type": "code",
   "execution_count": 8,
   "metadata": {},
   "outputs": [
    {
     "name": "stdout",
     "output_type": "stream",
     "text": [
      "<class 'pandas.core.frame.DataFrame'>\n",
      "RangeIndex: 1000000 entries, 0 to 999999\n",
      "Data columns (total 25 columns):\n",
      "Id                 1000000 non-null int64\n",
      "groupId            1000000 non-null int64\n",
      "matchId            1000000 non-null int64\n",
      "assists            1000000 non-null int64\n",
      "boosts             1000000 non-null int64\n",
      "damageDealt        1000000 non-null float64\n",
      "DBNOs              1000000 non-null int64\n",
      "headshotKills      1000000 non-null int64\n",
      "heals              1000000 non-null int64\n",
      "killPlace          1000000 non-null int64\n",
      "killPoints         1000000 non-null int64\n",
      "kills              1000000 non-null int64\n",
      "killStreaks        1000000 non-null int64\n",
      "longestKill        1000000 non-null float64\n",
      "maxPlace           1000000 non-null int64\n",
      "numGroups          1000000 non-null int64\n",
      "revives            1000000 non-null int64\n",
      "rideDistance       1000000 non-null float64\n",
      "roadKills          1000000 non-null int64\n",
      "swimDistance       1000000 non-null float64\n",
      "teamKills          1000000 non-null int64\n",
      "vehicleDestroys    1000000 non-null int64\n",
      "walkDistance       1000000 non-null float64\n",
      "weaponsAcquired    1000000 non-null int64\n",
      "winPoints          1000000 non-null int64\n",
      "dtypes: float64(5), int64(20)\n",
      "memory usage: 190.7 MB\n"
     ]
    }
   ],
   "source": [
    "pubg_test.info()"
   ]
  },
  {
   "cell_type": "code",
   "execution_count": 9,
   "metadata": {},
   "outputs": [
    {
     "data": {
      "text/plain": [
       "Id                 0\n",
       "groupId            0\n",
       "matchId            0\n",
       "assists            0\n",
       "boosts             0\n",
       "damageDealt        0\n",
       "DBNOs              0\n",
       "headshotKills      0\n",
       "heals              0\n",
       "killPlace          0\n",
       "killPoints         0\n",
       "kills              0\n",
       "killStreaks        0\n",
       "longestKill        0\n",
       "maxPlace           0\n",
       "numGroups          0\n",
       "revives            0\n",
       "rideDistance       0\n",
       "roadKills          0\n",
       "swimDistance       0\n",
       "teamKills          0\n",
       "vehicleDestroys    0\n",
       "walkDistance       0\n",
       "weaponsAcquired    0\n",
       "winPoints          0\n",
       "winPlacePerc       0\n",
       "dtype: int64"
      ]
     },
     "execution_count": 9,
     "metadata": {},
     "output_type": "execute_result"
    }
   ],
   "source": [
    "pubg_train.isnull().sum()"
   ]
  },
  {
   "cell_type": "code",
   "execution_count": 10,
   "metadata": {},
   "outputs": [
    {
     "data": {
      "text/plain": [
       "Id                 0\n",
       "groupId            0\n",
       "matchId            0\n",
       "assists            0\n",
       "boosts             0\n",
       "damageDealt        0\n",
       "DBNOs              0\n",
       "headshotKills      0\n",
       "heals              0\n",
       "killPlace          0\n",
       "killPoints         0\n",
       "kills              0\n",
       "killStreaks        0\n",
       "longestKill        0\n",
       "maxPlace           0\n",
       "numGroups          0\n",
       "revives            0\n",
       "rideDistance       0\n",
       "roadKills          0\n",
       "swimDistance       0\n",
       "teamKills          0\n",
       "vehicleDestroys    0\n",
       "walkDistance       0\n",
       "weaponsAcquired    0\n",
       "winPoints          0\n",
       "dtype: int64"
      ]
     },
     "execution_count": 10,
     "metadata": {},
     "output_type": "execute_result"
    }
   ],
   "source": [
    "pubg_test.isnull().sum()"
   ]
  },
  {
   "cell_type": "code",
   "execution_count": 11,
   "metadata": {},
   "outputs": [
    {
     "name": "stdout",
     "output_type": "stream",
     "text": [
      "(1000000, 26) (1000000, 25)\n"
     ]
    }
   ],
   "source": [
    "print(pubg_train.shape,pubg_test.shape)"
   ]
  },
  {
   "cell_type": "markdown",
   "metadata": {},
   "source": [
    "### Divide the data in test and train"
   ]
  },
  {
   "cell_type": "code",
   "execution_count": 7,
   "metadata": {},
   "outputs": [],
   "source": [
    "from sklearn.model_selection import train_test_split\n",
    "\n",
    "X=pubg_train.drop(['winPlacePerc'],axis=1)\n",
    "y=pubg_train['winPlacePerc']\n",
    "\n"
   ]
  },
  {
   "cell_type": "code",
   "execution_count": 13,
   "metadata": {},
   "outputs": [],
   "source": [
    "X_train, X_test, y_train, y_test = train_test_split(X, y, test_size=0.3, random_state=22,shuffle=True)"
   ]
  },
  {
   "cell_type": "code",
   "execution_count": 14,
   "metadata": {},
   "outputs": [
    {
     "name": "stdout",
     "output_type": "stream",
     "text": [
      "X_train.shape (700000, 25), X_test.shape (300000, 25)\n",
      "y_train.shape (700000,), y_test.shape (300000,)\n"
     ]
    }
   ],
   "source": [
    "print('X_train.shape %s, X_test.shape %s\\ny_train.shape %s, y_test.shape %s'%(X_train.shape,X_test.shape,y_train.shape,y_test.shape))"
   ]
  },
  {
   "cell_type": "markdown",
   "metadata": {},
   "source": [
    "### Building a quick and dirty model"
   ]
  },
  {
   "cell_type": "markdown",
   "metadata": {},
   "source": [
    "#### Linear Regression"
   ]
  },
  {
   "cell_type": "code",
   "execution_count": 15,
   "metadata": {},
   "outputs": [],
   "source": [
    "from sklearn import datasets, linear_model\n",
    "from sklearn.metrics import mean_squared_error, r2_score\n",
    "from math import sqrt"
   ]
  },
  {
   "cell_type": "code",
   "execution_count": 16,
   "metadata": {},
   "outputs": [],
   "source": [
    "#Create Linear Regression Model object\n",
    "reg = linear_model.LinearRegression()"
   ]
  },
  {
   "cell_type": "code",
   "execution_count": 17,
   "metadata": {},
   "outputs": [
    {
     "data": {
      "text/plain": [
       "LinearRegression(copy_X=True, fit_intercept=True, n_jobs=1, normalize=False)"
      ]
     },
     "execution_count": 17,
     "metadata": {},
     "output_type": "execute_result"
    }
   ],
   "source": [
    "#Train Model using train dataset\n",
    "reg.fit(X_train,y_train)"
   ]
  },
  {
   "cell_type": "code",
   "execution_count": 18,
   "metadata": {},
   "outputs": [],
   "source": [
    "#Make Prediction using cross validation set\n",
    "y_pred = reg.predict(X_test)"
   ]
  },
  {
   "cell_type": "code",
   "execution_count": 19,
   "metadata": {},
   "outputs": [
    {
     "name": "stdout",
     "output_type": "stream",
     "text": [
      "Variance score (r2_score): 0.783937\n",
      "Model accuracy:78.39 \n"
     ]
    }
   ],
   "source": [
    "# r2_score score: 1 is perfect prediction\n",
    "r2Score=r2_score(y_test,y_pred)\n",
    "print(\"Variance score (r2_score): %f\"%r2Score)\n",
    "print('Model accuracy:%.2f '%(r2Score*100))\n",
    " "
   ]
  },
  {
   "cell_type": "code",
   "execution_count": 20,
   "metadata": {},
   "outputs": [
    {
     "name": "stdout",
     "output_type": "stream",
     "text": [
      "Root mean squared error of test:0.144403\n"
     ]
    }
   ],
   "source": [
    "print(\"Root mean squared error of test:%f\"%sqrt(mean_squared_error(y_test,y_pred)))"
   ]
  },
  {
   "cell_type": "markdown",
   "metadata": {},
   "source": [
    "#### Neural Network Regression"
   ]
  },
  {
   "cell_type": "code",
   "execution_count": 10,
   "metadata": {},
   "outputs": [],
   "source": [
    "from sklearn.neural_network import MLPClassifier, MLPRegressor\n",
    "from sklearn.preprocessing import StandardScaler"
   ]
  },
  {
   "cell_type": "code",
   "execution_count": 22,
   "metadata": {},
   "outputs": [],
   "source": [
    "scaler = StandardScaler()"
   ]
  },
  {
   "cell_type": "code",
   "execution_count": 23,
   "metadata": {},
   "outputs": [
    {
     "data": {
      "text/plain": [
       "StandardScaler(copy=True, with_mean=True, with_std=True)"
      ]
     },
     "execution_count": 23,
     "metadata": {},
     "output_type": "execute_result"
    }
   ],
   "source": [
    "# Fit only to the training data\n",
    "scaler.fit(X_train)"
   ]
  },
  {
   "cell_type": "code",
   "execution_count": 24,
   "metadata": {},
   "outputs": [],
   "source": [
    "X_train = scaler.transform(X_train)\n",
    "X_test = scaler.transform(X_test)"
   ]
  },
  {
   "cell_type": "code",
   "execution_count": 25,
   "metadata": {},
   "outputs": [],
   "source": [
    "mlp = MLPRegressor(solver='adam',hidden_layer_sizes=(5, 2), random_state=1)"
   ]
  },
  {
   "cell_type": "code",
   "execution_count": 26,
   "metadata": {},
   "outputs": [
    {
     "data": {
      "text/plain": [
       "MLPRegressor(activation='relu', alpha=0.0001, batch_size='auto', beta_1=0.9,\n",
       "       beta_2=0.999, early_stopping=False, epsilon=1e-08,\n",
       "       hidden_layer_sizes=(5, 2), learning_rate='constant',\n",
       "       learning_rate_init=0.001, max_iter=200, momentum=0.9,\n",
       "       nesterovs_momentum=True, power_t=0.5, random_state=1, shuffle=True,\n",
       "       solver='adam', tol=0.0001, validation_fraction=0.1, verbose=False,\n",
       "       warm_start=False)"
      ]
     },
     "execution_count": 26,
     "metadata": {},
     "output_type": "execute_result"
    }
   ],
   "source": [
    "mlp.fit(X_train,y_train)"
   ]
  },
  {
   "cell_type": "code",
   "execution_count": 27,
   "metadata": {},
   "outputs": [],
   "source": [
    "y_pred = mlp.predict(X_test)"
   ]
  },
  {
   "cell_type": "code",
   "execution_count": 28,
   "metadata": {},
   "outputs": [
    {
     "name": "stdout",
     "output_type": "stream",
     "text": [
      "Variance score (r2_score): 0.862523\n",
      "Model accuracy:86.25 \n"
     ]
    }
   ],
   "source": [
    "# r2_score score: 1 is perfect prediction\n",
    "mlp_score=mlp.score(X_test,y_test)\n",
    "print(\"Variance score (r2_score): %f\"%mlp_score)\n",
    "print('Model accuracy:%.2f '%(mlp_score*100))\n",
    " "
   ]
  },
  {
   "cell_type": "code",
   "execution_count": 29,
   "metadata": {},
   "outputs": [
    {
     "name": "stdout",
     "output_type": "stream",
     "text": [
      "Root mean squared error of test:0.115187\n"
     ]
    }
   ],
   "source": [
    "print(\"Root mean squared error of test:%f\"%sqrt(mean_squared_error(y_test,y_pred)))"
   ]
  },
  {
   "cell_type": "code",
   "execution_count": 30,
   "metadata": {},
   "outputs": [
    {
     "name": "stdout",
     "output_type": "stream",
     "text": [
      "Root mean squared error of test:0.114903\n"
     ]
    }
   ],
   "source": [
    "ytr_pred = mlp.predict(X_train)\n",
    "print(\"Root mean squared error of test:%f\"%sqrt(mean_squared_error(y_train,ytr_pred)))"
   ]
  },
  {
   "cell_type": "code",
   "execution_count": null,
   "metadata": {},
   "outputs": [],
   "source": []
  },
  {
   "cell_type": "markdown",
   "metadata": {},
   "source": [
    "#### Boosted Decision Tree Classifier"
   ]
  },
  {
   "cell_type": "code",
   "execution_count": 31,
   "metadata": {},
   "outputs": [],
   "source": [
    "from sklearn.tree import DecisionTreeRegressor\n",
    "from sklearn.ensemble import AdaBoostRegressor"
   ]
  },
  {
   "cell_type": "code",
   "execution_count": 32,
   "metadata": {},
   "outputs": [],
   "source": [
    "dtr=DecisionTreeRegressor(max_depth=4)\n",
    "dtr_boost=AdaBoostRegressor(DecisionTreeRegressor(max_depth=4),n_estimators=300,random_state=12)"
   ]
  },
  {
   "cell_type": "code",
   "execution_count": 33,
   "metadata": {},
   "outputs": [
    {
     "data": {
      "text/plain": [
       "DecisionTreeRegressor(criterion='mse', max_depth=4, max_features=None,\n",
       "           max_leaf_nodes=None, min_impurity_decrease=0.0,\n",
       "           min_impurity_split=None, min_samples_leaf=1,\n",
       "           min_samples_split=2, min_weight_fraction_leaf=0.0,\n",
       "           presort=False, random_state=None, splitter='best')"
      ]
     },
     "execution_count": 33,
     "metadata": {},
     "output_type": "execute_result"
    }
   ],
   "source": [
    "dtr.fit(X_train,y_train)"
   ]
  },
  {
   "cell_type": "code",
   "execution_count": 34,
   "metadata": {},
   "outputs": [],
   "source": [
    "y_pred=dtr.predict(X_test)"
   ]
  },
  {
   "cell_type": "code",
   "execution_count": 35,
   "metadata": {},
   "outputs": [
    {
     "name": "stdout",
     "output_type": "stream",
     "text": [
      "Variance score (r2_score): 0.788672\n",
      "Model accuracy:78.87 \n"
     ]
    }
   ],
   "source": [
    "# r2_score score: 1 is perfect prediction\n",
    "dtr_score=dtr.score(X_test,y_test)\n",
    "print(\"Variance score (r2_score): %f\"%dtr_score)\n",
    "print('Model accuracy:%.2f '%(dtr_score*100))\n",
    " "
   ]
  },
  {
   "cell_type": "code",
   "execution_count": 36,
   "metadata": {},
   "outputs": [
    {
     "data": {
      "text/plain": [
       "AdaBoostRegressor(base_estimator=DecisionTreeRegressor(criterion='mse', max_depth=4, max_features=None,\n",
       "           max_leaf_nodes=None, min_impurity_decrease=0.0,\n",
       "           min_impurity_split=None, min_samples_leaf=1,\n",
       "           min_samples_split=2, min_weight_fraction_leaf=0.0,\n",
       "           presort=False, random_state=None, splitter='best'),\n",
       "         learning_rate=1.0, loss='linear', n_estimators=300,\n",
       "         random_state=12)"
      ]
     },
     "execution_count": 36,
     "metadata": {},
     "output_type": "execute_result"
    }
   ],
   "source": [
    "dtr_boost.fit(X_train,y_train)"
   ]
  },
  {
   "cell_type": "code",
   "execution_count": 37,
   "metadata": {},
   "outputs": [],
   "source": [
    "y_pred=dtr_boost.predict(X_test)"
   ]
  },
  {
   "cell_type": "code",
   "execution_count": 38,
   "metadata": {},
   "outputs": [
    {
     "name": "stdout",
     "output_type": "stream",
     "text": [
      "Variance score (r2_score): 0.805184\n",
      "Model accuracy:80.52 \n"
     ]
    }
   ],
   "source": [
    "# r2_score score: 1 is perfect prediction\n",
    "dtrBoost_score=dtr_boost.score(X_test,y_test)\n",
    "print(\"Variance score (r2_score): %f\"%dtrBoost_score)\n",
    "print('Model accuracy:%.2f '%(dtrBoost_score*100))\n",
    " "
   ]
  },
  {
   "cell_type": "markdown",
   "metadata": {},
   "source": [
    "### Analysis of Algorithms used:\n",
    "- Linear regression: Quick and simple. Fairly easy accurate.\n",
    "- Neural Network: Slower compared to LR but much more accurate.\n",
    "- Decision Tree Classifier: Very slow and almost same as LR"
   ]
  },
  {
   "cell_type": "markdown",
   "metadata": {},
   "source": [
    "### Taking Neual network Forward!"
   ]
  },
  {
   "cell_type": "code",
   "execution_count": 39,
   "metadata": {},
   "outputs": [],
   "source": [
    "import matplotlib.pyplot as plt"
   ]
  },
  {
   "cell_type": "code",
   "execution_count": 40,
   "metadata": {},
   "outputs": [],
   "source": [
    "y_pred = mlp.predict(X_test)"
   ]
  },
  {
   "cell_type": "code",
   "execution_count": 41,
   "metadata": {},
   "outputs": [
    {
     "data": {
      "image/png": "[encoded data removed]",
      "text/plain": [
       "<Figure size 432x288 with 1 Axes>"
      ]
     },
     "metadata": {},
     "output_type": "display_data"
    }
   ],
   "source": [
    "fig = plt.figure()\n",
    "ax1 = fig.add_subplot(111)\n",
    "#ax1.scatter(y_train, y_train, s=0.01, c='b', marker=\"s\", label='real')\n",
    "ax1.scatter(y_test,y_pred, s=1, c='r', marker=\"o\", label='NN Prediction')\n",
    "plt.show()"
   ]
  },
  {
   "cell_type": "code",
   "execution_count": null,
   "metadata": {},
   "outputs": [],
   "source": []
  },
  {
   "cell_type": "code",
   "execution_count": 42,
   "metadata": {},
   "outputs": [],
   "source": [
    "from sklearn.model_selection import learning_curve\n"
   ]
  },
  {
   "cell_type": "code",
   "execution_count": 43,
   "metadata": {},
   "outputs": [],
   "source": [
    "def plot_learning_curve(estimator, title, X, y, ylim=None, cv=None,\n",
    "                        n_jobs=None, train_sizes=np.linspace(.1, 1.0, 5)):\n",
    "    \"\"\"\n",
    "    Generate a simple plot of the test and training learning curve.\n",
    "\n",
    "    Parameters\n",
    "    ----------\n",
    "    estimator : object type that implements the \"fit\" and \"predict\" methods\n",
    "        An object of that type which is cloned for each validation.\n",
    "\n",
    "    title : string\n",
    "        Title for the chart.\n",
    "\n",
    "    X : array-like, shape (n_samples, n_features)\n",
    "        Training vector, where n_samples is the number of samples and\n",
    "        n_features is the number of features.\n",
    "\n",
    "    y : array-like, shape (n_samples) or (n_samples, n_features), optional\n",
    "        Target relative to X for classification or regression;\n",
    "        None for unsupervised learning.\n",
    "\n",
    "    ylim : tuple, shape (ymin, ymax), optional\n",
    "        Defines minimum and maximum yvalues plotted.\n",
    "\n",
    "    cv : int, cross-validation generator or an iterable, optional\n",
    "        Determines the cross-validation splitting strategy.\n",
    "        Possible inputs for cv are:\n",
    "          - None, to use the default 3-fold cross-validation,\n",
    "          - integer, to specify the number of folds.\n",
    "          - An object to be used as a cross-validation generator.\n",
    "          - An iterable yielding train/test splits.\n",
    "\n",
    "        For integer/None inputs, if ``y`` is binary or multiclass,\n",
    "        :class:`StratifiedKFold` used. If the estimator is not a classifier\n",
    "        or if ``y`` is neither binary nor multiclass, :class:`KFold` is used.\n",
    "\n",
    "        Refer :ref:`User Guide <cross_validation>` for the various\n",
    "        cross-validators that can be used here.\n",
    "\n",
    "    n_jobs : int or None, optional (default=None)\n",
    "        Number of jobs to run in parallel.\n",
    "        ``None`` means 1 unless in a :obj:`joblib.parallel_backend` context.\n",
    "        ``-1`` means using all processors. See :term:`Glossary <n_jobs>`\n",
    "        for more details.\n",
    "\n",
    "    train_sizes : array-like, shape (n_ticks,), dtype float or int\n",
    "        Relative or absolute numbers of training examples that will be used to\n",
    "        generate the learning curve. If the dtype is float, it is regarded as a\n",
    "        fraction of the maximum size of the training set (that is determined\n",
    "        by the selected validation method), i.e. it has to be within (0, 1].\n",
    "        Otherwise it is interpreted as absolute sizes of the training sets.\n",
    "        Note that for classification the number of samples usually have to\n",
    "        be big enough to contain at least one sample from each class.\n",
    "        (default: np.linspace(0.1, 1.0, 5))\n",
    "    \"\"\"\n",
    "    plt.figure()\n",
    "    plt.title(title)\n",
    "    if ylim is not None:\n",
    "        plt.ylim(*ylim)\n",
    "    plt.xlabel(\"Training examples\")\n",
    "    plt.ylabel(\"Score\")\n",
    "    train_sizes, train_scores, test_scores = learning_curve(\n",
    "        estimator, X, y, cv=cv, n_jobs=n_jobs, train_sizes=train_sizes)\n",
    "    train_scores_mean = np.mean(train_scores, axis=1)\n",
    "    train_scores_std = np.std(train_scores, axis=1)\n",
    "    test_scores_mean = np.mean(test_scores, axis=1)\n",
    "    test_scores_std = np.std(test_scores, axis=1)\n",
    "    plt.grid()\n",
    "\n",
    "    plt.fill_between(train_sizes, train_scores_mean - train_scores_std,\n",
    "                     train_scores_mean + train_scores_std, alpha=0.1,\n",
    "                     color=\"r\")\n",
    "    plt.fill_between(train_sizes, test_scores_mean - test_scores_std,\n",
    "                     test_scores_mean + test_scores_std, alpha=0.1, color=\"g\")\n",
    "    plt.plot(train_sizes, train_scores_mean, 'o-', color=\"r\",\n",
    "             label=\"Training score\")\n",
    "    plt.plot(train_sizes, test_scores_mean, 'o-', color=\"g\",\n",
    "             label=\"Cross-validation score\")\n",
    "\n",
    "    plt.legend(loc=\"best\")\n",
    "    return plt\n"
   ]
  },
  {
   "cell_type": "code",
   "execution_count": 44,
   "metadata": {},
   "outputs": [
    {
     "data": {
      "image/png": "[encoded data removed]",
      "text/plain": [
       "<Figure size 432x288 with 1 Axes>"
      ]
     },
     "metadata": {},
     "output_type": "display_data"
    }
   ],
   "source": [
    "plt = plot_learning_curve(mlp,'PUBG Prediction',X_train, y_train, ylim=(0, 1), n_jobs=4)\n",
    "#plt.show()"
   ]
  },
  {
   "cell_type": "code",
   "execution_count": 45,
   "metadata": {},
   "outputs": [
    {
     "name": "stdout",
     "output_type": "stream",
     "text": [
      "Index(['Id', 'groupId', 'matchId', 'assists', 'boosts', 'damageDealt', 'DBNOs',\n",
      "       'headshotKills', 'heals', 'killPlace', 'killPoints', 'kills',\n",
      "       'killStreaks', 'longestKill', 'maxPlace', 'numGroups', 'revives',\n",
      "       'rideDistance', 'roadKills', 'swimDistance', 'teamKills',\n",
      "       'vehicleDestroys', 'walkDistance', 'weaponsAcquired', 'winPoints',\n",
      "       'winPlacePerc'],\n",
      "      dtype='object')\n"
     ]
    },
    {
     "data": {
      "text/html": [
       "<div>\n",
       "<style scoped>\n",
       "    .dataframe tbody tr th:only-of-type {\n",
       "        vertical-align: middle;\n",
       "    }\n",
       "\n",
       "    .dataframe tbody tr th {\n",
       "        vertical-align: top;\n",
       "    }\n",
       "\n",
       "    .dataframe thead th {\n",
       "        text-align: right;\n",
       "    }\n",
       "</style>\n",
       "<table border=\"1\" class=\"dataframe\">\n",
       "  <thead>\n",
       "    <tr style=\"text-align: right;\">\n",
       "      <th></th>\n",
       "      <th>Id</th>\n",
       "      <th>matchId</th>\n",
       "    </tr>\n",
       "    <tr>\n",
       "      <th>groupId</th>\n",
       "      <th></th>\n",
       "      <th></th>\n",
       "    </tr>\n",
       "  </thead>\n",
       "  <tbody>\n",
       "    <tr>\n",
       "      <th>2</th>\n",
       "      <td>68192</td>\n",
       "      <td>0</td>\n",
       "    </tr>\n",
       "    <tr>\n",
       "      <th>7</th>\n",
       "      <td>885751</td>\n",
       "      <td>0</td>\n",
       "    </tr>\n",
       "    <tr>\n",
       "      <th>9</th>\n",
       "      <td>681812</td>\n",
       "      <td>0</td>\n",
       "    </tr>\n",
       "    <tr>\n",
       "      <th>10</th>\n",
       "      <td>1567684</td>\n",
       "      <td>0</td>\n",
       "    </tr>\n",
       "    <tr>\n",
       "      <th>12</th>\n",
       "      <td>3131939</td>\n",
       "      <td>0</td>\n",
       "    </tr>\n",
       "    <tr>\n",
       "      <th>16</th>\n",
       "      <td>1636513</td>\n",
       "      <td>0</td>\n",
       "    </tr>\n",
       "    <tr>\n",
       "      <th>18</th>\n",
       "      <td>5303885</td>\n",
       "      <td>0</td>\n",
       "    </tr>\n",
       "    <tr>\n",
       "      <th>21</th>\n",
       "      <td>1089189</td>\n",
       "      <td>0</td>\n",
       "    </tr>\n",
       "    <tr>\n",
       "      <th>24</th>\n",
       "      <td>136382</td>\n",
       "      <td>0</td>\n",
       "    </tr>\n",
       "    <tr>\n",
       "      <th>26</th>\n",
       "      <td>1227424</td>\n",
       "      <td>0</td>\n",
       "    </tr>\n",
       "  </tbody>\n",
       "</table>\n",
       "</div>"
      ],
      "text/plain": [
       "              Id  matchId\n",
       "groupId                  \n",
       "2          68192        0\n",
       "7         885751        0\n",
       "9         681812        0\n",
       "10       1567684        0\n",
       "12       3131939        0\n",
       "16       1636513        0\n",
       "18       5303885        0\n",
       "21       1089189        0\n",
       "24        136382        0\n",
       "26       1227424        0"
      ]
     },
     "execution_count": 45,
     "metadata": {},
     "output_type": "execute_result"
    }
   ],
   "source": [
    "cols=pubg_train.columns\n",
    "print(cols)\n",
    "#X_train = pubg_train[]\n",
    "pubg_train[['Id','groupId','matchId']].groupby(['groupId']).sum().head(10)"
   ]
  },
  {
   "cell_type": "markdown",
   "metadata": {},
   "source": [
    "#### Finding Correlation between features\n",
    "- Finding correlation between fetures help us to take only the feature which are contributing to guess the prediction right."
   ]
  },
  {
   "cell_type": "code",
   "execution_count": 46,
   "metadata": {},
   "outputs": [],
   "source": [
    "corr = pubg_train.corr()"
   ]
  },
  {
   "cell_type": "code",
   "execution_count": 53,
   "metadata": {},
   "outputs": [
    {
     "data": {
      "text/html": [
       "<div>\n",
       "<style scoped>\n",
       "    .dataframe tbody tr th:only-of-type {\n",
       "        vertical-align: middle;\n",
       "    }\n",
       "\n",
       "    .dataframe tbody tr th {\n",
       "        vertical-align: top;\n",
       "    }\n",
       "\n",
       "    .dataframe thead th {\n",
       "        text-align: right;\n",
       "    }\n",
       "</style>\n",
       "<table border=\"1\" class=\"dataframe\">\n",
       "  <thead>\n",
       "    <tr style=\"text-align: right;\">\n",
       "      <th></th>\n",
       "      <th>Id</th>\n",
       "      <th>groupId</th>\n",
       "      <th>matchId</th>\n",
       "      <th>assists</th>\n",
       "      <th>boosts</th>\n",
       "      <th>damageDealt</th>\n",
       "      <th>DBNOs</th>\n",
       "      <th>headshotKills</th>\n",
       "      <th>heals</th>\n",
       "      <th>killPlace</th>\n",
       "      <th>...</th>\n",
       "      <th>revives</th>\n",
       "      <th>rideDistance</th>\n",
       "      <th>roadKills</th>\n",
       "      <th>swimDistance</th>\n",
       "      <th>teamKills</th>\n",
       "      <th>vehicleDestroys</th>\n",
       "      <th>walkDistance</th>\n",
       "      <th>weaponsAcquired</th>\n",
       "      <th>winPoints</th>\n",
       "      <th>winPlacePerc</th>\n",
       "    </tr>\n",
       "  </thead>\n",
       "  <tbody>\n",
       "    <tr>\n",
       "      <th>Id</th>\n",
       "      <td>1.000000</td>\n",
       "      <td>0.004035</td>\n",
       "      <td>0.030850</td>\n",
       "      <td>-0.025182</td>\n",
       "      <td>-0.025397</td>\n",
       "      <td>-0.044239</td>\n",
       "      <td>-0.030377</td>\n",
       "      <td>-0.028651</td>\n",
       "      <td>-0.017471</td>\n",
       "      <td>0.036518</td>\n",
       "      <td>...</td>\n",
       "      <td>-0.012209</td>\n",
       "      <td>-0.010645</td>\n",
       "      <td>-0.003394</td>\n",
       "      <td>-0.002310</td>\n",
       "      <td>-0.001337</td>\n",
       "      <td>-0.001666</td>\n",
       "      <td>-0.019023</td>\n",
       "      <td>-0.021083</td>\n",
       "      <td>-0.039636</td>\n",
       "      <td>-0.024420</td>\n",
       "    </tr>\n",
       "    <tr>\n",
       "      <th>groupId</th>\n",
       "      <td>0.004035</td>\n",
       "      <td>1.000000</td>\n",
       "      <td>0.090008</td>\n",
       "      <td>0.002301</td>\n",
       "      <td>-0.002301</td>\n",
       "      <td>0.001675</td>\n",
       "      <td>0.002148</td>\n",
       "      <td>-0.000701</td>\n",
       "      <td>-0.002050</td>\n",
       "      <td>0.001827</td>\n",
       "      <td>...</td>\n",
       "      <td>-0.001581</td>\n",
       "      <td>-0.004820</td>\n",
       "      <td>0.000427</td>\n",
       "      <td>0.000563</td>\n",
       "      <td>-0.001258</td>\n",
       "      <td>-0.001413</td>\n",
       "      <td>-0.001274</td>\n",
       "      <td>0.001112</td>\n",
       "      <td>-0.000973</td>\n",
       "      <td>-0.003346</td>\n",
       "    </tr>\n",
       "    <tr>\n",
       "      <th>matchId</th>\n",
       "      <td>0.030850</td>\n",
       "      <td>0.090008</td>\n",
       "      <td>1.000000</td>\n",
       "      <td>0.003316</td>\n",
       "      <td>-0.000562</td>\n",
       "      <td>0.003449</td>\n",
       "      <td>0.003826</td>\n",
       "      <td>0.000919</td>\n",
       "      <td>0.000234</td>\n",
       "      <td>-0.002725</td>\n",
       "      <td>...</td>\n",
       "      <td>0.000400</td>\n",
       "      <td>0.000064</td>\n",
       "      <td>-0.001834</td>\n",
       "      <td>-0.000375</td>\n",
       "      <td>-0.000271</td>\n",
       "      <td>-0.000293</td>\n",
       "      <td>-0.000413</td>\n",
       "      <td>0.004713</td>\n",
       "      <td>-0.001677</td>\n",
       "      <td>0.001441</td>\n",
       "    </tr>\n",
       "    <tr>\n",
       "      <th>assists</th>\n",
       "      <td>-0.025182</td>\n",
       "      <td>0.002301</td>\n",
       "      <td>0.003316</td>\n",
       "      <td>1.000000</td>\n",
       "      <td>0.286071</td>\n",
       "      <td>0.477911</td>\n",
       "      <td>0.401529</td>\n",
       "      <td>0.265030</td>\n",
       "      <td>0.266253</td>\n",
       "      <td>-0.306454</td>\n",
       "      <td>...</td>\n",
       "      <td>0.229206</td>\n",
       "      <td>0.086128</td>\n",
       "      <td>0.010959</td>\n",
       "      <td>0.024340</td>\n",
       "      <td>0.011087</td>\n",
       "      <td>0.041158</td>\n",
       "      <td>0.260296</td>\n",
       "      <td>0.345766</td>\n",
       "      <td>0.076914</td>\n",
       "      <td>0.303418</td>\n",
       "    </tr>\n",
       "    <tr>\n",
       "      <th>boosts</th>\n",
       "      <td>-0.025397</td>\n",
       "      <td>-0.002301</td>\n",
       "      <td>-0.000562</td>\n",
       "      <td>0.286071</td>\n",
       "      <td>1.000000</td>\n",
       "      <td>0.487304</td>\n",
       "      <td>0.319702</td>\n",
       "      <td>0.324220</td>\n",
       "      <td>0.533060</td>\n",
       "      <td>-0.534764</td>\n",
       "      <td>...</td>\n",
       "      <td>0.256411</td>\n",
       "      <td>0.309713</td>\n",
       "      <td>0.040541</td>\n",
       "      <td>0.116210</td>\n",
       "      <td>-0.003703</td>\n",
       "      <td>0.073214</td>\n",
       "      <td>0.645988</td>\n",
       "      <td>0.319813</td>\n",
       "      <td>0.136247</td>\n",
       "      <td>0.617536</td>\n",
       "    </tr>\n",
       "    <tr>\n",
       "      <th>damageDealt</th>\n",
       "      <td>-0.044239</td>\n",
       "      <td>0.001675</td>\n",
       "      <td>0.003449</td>\n",
       "      <td>0.477911</td>\n",
       "      <td>0.487304</td>\n",
       "      <td>1.000000</td>\n",
       "      <td>0.781660</td>\n",
       "      <td>0.647569</td>\n",
       "      <td>0.390635</td>\n",
       "      <td>-0.649783</td>\n",
       "      <td>...</td>\n",
       "      <td>0.286839</td>\n",
       "      <td>0.124995</td>\n",
       "      <td>0.050795</td>\n",
       "      <td>0.039271</td>\n",
       "      <td>0.057016</td>\n",
       "      <td>0.063461</td>\n",
       "      <td>0.363792</td>\n",
       "      <td>0.452426</td>\n",
       "      <td>0.112647</td>\n",
       "      <td>0.428456</td>\n",
       "    </tr>\n",
       "    <tr>\n",
       "      <th>DBNOs</th>\n",
       "      <td>-0.030377</td>\n",
       "      <td>0.002148</td>\n",
       "      <td>0.003826</td>\n",
       "      <td>0.401529</td>\n",
       "      <td>0.319702</td>\n",
       "      <td>0.781660</td>\n",
       "      <td>1.000000</td>\n",
       "      <td>0.535593</td>\n",
       "      <td>0.298390</td>\n",
       "      <td>-0.534726</td>\n",
       "      <td>...</td>\n",
       "      <td>0.303948</td>\n",
       "      <td>0.066648</td>\n",
       "      <td>0.031435</td>\n",
       "      <td>0.018952</td>\n",
       "      <td>0.073703</td>\n",
       "      <td>0.039660</td>\n",
       "      <td>0.239429</td>\n",
       "      <td>0.351893</td>\n",
       "      <td>0.085371</td>\n",
       "      <td>0.276430</td>\n",
       "    </tr>\n",
       "    <tr>\n",
       "      <th>headshotKills</th>\n",
       "      <td>-0.028651</td>\n",
       "      <td>-0.000701</td>\n",
       "      <td>0.000919</td>\n",
       "      <td>0.265030</td>\n",
       "      <td>0.324220</td>\n",
       "      <td>0.647569</td>\n",
       "      <td>0.535593</td>\n",
       "      <td>1.000000</td>\n",
       "      <td>0.242832</td>\n",
       "      <td>-0.470289</td>\n",
       "      <td>...</td>\n",
       "      <td>0.180959</td>\n",
       "      <td>0.063745</td>\n",
       "      <td>0.017363</td>\n",
       "      <td>0.029616</td>\n",
       "      <td>0.014756</td>\n",
       "      <td>0.030566</td>\n",
       "      <td>0.237708</td>\n",
       "      <td>0.301376</td>\n",
       "      <td>0.066726</td>\n",
       "      <td>0.280298</td>\n",
       "    </tr>\n",
       "    <tr>\n",
       "      <th>heals</th>\n",
       "      <td>-0.017471</td>\n",
       "      <td>-0.002050</td>\n",
       "      <td>0.000234</td>\n",
       "      <td>0.266253</td>\n",
       "      <td>0.533060</td>\n",
       "      <td>0.390635</td>\n",
       "      <td>0.298390</td>\n",
       "      <td>0.242832</td>\n",
       "      <td>1.000000</td>\n",
       "      <td>-0.393398</td>\n",
       "      <td>...</td>\n",
       "      <td>0.250980</td>\n",
       "      <td>0.271841</td>\n",
       "      <td>0.028966</td>\n",
       "      <td>0.079159</td>\n",
       "      <td>0.012177</td>\n",
       "      <td>0.053522</td>\n",
       "      <td>0.420389</td>\n",
       "      <td>0.311968</td>\n",
       "      <td>0.085975</td>\n",
       "      <td>0.423645</td>\n",
       "    </tr>\n",
       "    <tr>\n",
       "      <th>killPlace</th>\n",
       "      <td>0.036518</td>\n",
       "      <td>0.001827</td>\n",
       "      <td>-0.002725</td>\n",
       "      <td>-0.306454</td>\n",
       "      <td>-0.534764</td>\n",
       "      <td>-0.649783</td>\n",
       "      <td>-0.534726</td>\n",
       "      <td>-0.470289</td>\n",
       "      <td>-0.393398</td>\n",
       "      <td>1.000000</td>\n",
       "      <td>...</td>\n",
       "      <td>-0.281879</td>\n",
       "      <td>-0.201115</td>\n",
       "      <td>-0.051331</td>\n",
       "      <td>-0.091837</td>\n",
       "      <td>-0.030334</td>\n",
       "      <td>-0.056616</td>\n",
       "      <td>-0.569906</td>\n",
       "      <td>-0.437775</td>\n",
       "      <td>-0.140123</td>\n",
       "      <td>-0.699453</td>\n",
       "    </tr>\n",
       "    <tr>\n",
       "      <th>killPoints</th>\n",
       "      <td>-0.058675</td>\n",
       "      <td>-0.002031</td>\n",
       "      <td>-0.006498</td>\n",
       "      <td>0.078364</td>\n",
       "      <td>0.154229</td>\n",
       "      <td>0.206733</td>\n",
       "      <td>0.160775</td>\n",
       "      <td>0.138308</td>\n",
       "      <td>0.076341</td>\n",
       "      <td>-0.141270</td>\n",
       "      <td>...</td>\n",
       "      <td>0.060118</td>\n",
       "      <td>0.040974</td>\n",
       "      <td>0.012318</td>\n",
       "      <td>-0.003736</td>\n",
       "      <td>0.006041</td>\n",
       "      <td>0.020383</td>\n",
       "      <td>0.099281</td>\n",
       "      <td>0.013778</td>\n",
       "      <td>0.451435</td>\n",
       "      <td>0.089627</td>\n",
       "    </tr>\n",
       "    <tr>\n",
       "      <th>kills</th>\n",
       "      <td>-0.042120</td>\n",
       "      <td>0.002166</td>\n",
       "      <td>0.003081</td>\n",
       "      <td>0.396069</td>\n",
       "      <td>0.459945</td>\n",
       "      <td>0.901621</td>\n",
       "      <td>0.764125</td>\n",
       "      <td>0.704099</td>\n",
       "      <td>0.354634</td>\n",
       "      <td>-0.694453</td>\n",
       "      <td>...</td>\n",
       "      <td>0.282013</td>\n",
       "      <td>0.089115</td>\n",
       "      <td>0.055707</td>\n",
       "      <td>0.039846</td>\n",
       "      <td>0.025248</td>\n",
       "      <td>0.055061</td>\n",
       "      <td>0.336521</td>\n",
       "      <td>0.431025</td>\n",
       "      <td>0.096660</td>\n",
       "      <td>0.406972</td>\n",
       "    </tr>\n",
       "    <tr>\n",
       "      <th>killStreaks</th>\n",
       "      <td>-0.034703</td>\n",
       "      <td>0.001074</td>\n",
       "      <td>0.001704</td>\n",
       "      <td>0.267534</td>\n",
       "      <td>0.399408</td>\n",
       "      <td>0.687643</td>\n",
       "      <td>0.634957</td>\n",
       "      <td>0.519274</td>\n",
       "      <td>0.294456</td>\n",
       "      <td>-0.803298</td>\n",
       "      <td>...</td>\n",
       "      <td>0.258439</td>\n",
       "      <td>0.079758</td>\n",
       "      <td>0.057541</td>\n",
       "      <td>0.038925</td>\n",
       "      <td>0.032850</td>\n",
       "      <td>0.046508</td>\n",
       "      <td>0.320220</td>\n",
       "      <td>0.280596</td>\n",
       "      <td>0.088877</td>\n",
       "      <td>0.380487</td>\n",
       "    </tr>\n",
       "    <tr>\n",
       "      <th>longestKill</th>\n",
       "      <td>-0.024301</td>\n",
       "      <td>-0.001152</td>\n",
       "      <td>0.001712</td>\n",
       "      <td>0.272148</td>\n",
       "      <td>0.418899</td>\n",
       "      <td>0.537004</td>\n",
       "      <td>0.423096</td>\n",
       "      <td>0.437551</td>\n",
       "      <td>0.283223</td>\n",
       "      <td>-0.517692</td>\n",
       "      <td>...</td>\n",
       "      <td>0.178532</td>\n",
       "      <td>0.187846</td>\n",
       "      <td>0.030312</td>\n",
       "      <td>0.061173</td>\n",
       "      <td>0.003427</td>\n",
       "      <td>0.072108</td>\n",
       "      <td>0.417109</td>\n",
       "      <td>0.287146</td>\n",
       "      <td>0.113967</td>\n",
       "      <td>0.409240</td>\n",
       "    </tr>\n",
       "    <tr>\n",
       "      <th>maxPlace</th>\n",
       "      <td>0.004745</td>\n",
       "      <td>-0.002115</td>\n",
       "      <td>0.001197</td>\n",
       "      <td>-0.170885</td>\n",
       "      <td>-0.009867</td>\n",
       "      <td>-0.070483</td>\n",
       "      <td>-0.261151</td>\n",
       "      <td>-0.016750</td>\n",
       "      <td>-0.075055</td>\n",
       "      <td>0.067561</td>\n",
       "      <td>...</td>\n",
       "      <td>-0.152581</td>\n",
       "      <td>-0.024617</td>\n",
       "      <td>0.010439</td>\n",
       "      <td>0.004725</td>\n",
       "      <td>-0.027538</td>\n",
       "      <td>-0.012981</td>\n",
       "      <td>-0.064428</td>\n",
       "      <td>-0.075816</td>\n",
       "      <td>-0.002506</td>\n",
       "      <td>0.021787</td>\n",
       "    </tr>\n",
       "    <tr>\n",
       "      <th>numGroups</th>\n",
       "      <td>0.004797</td>\n",
       "      <td>-0.002257</td>\n",
       "      <td>0.001394</td>\n",
       "      <td>-0.171029</td>\n",
       "      <td>-0.010026</td>\n",
       "      <td>-0.071406</td>\n",
       "      <td>-0.259682</td>\n",
       "      <td>-0.017949</td>\n",
       "      <td>-0.075803</td>\n",
       "      <td>0.068730</td>\n",
       "      <td>...</td>\n",
       "      <td>-0.151593</td>\n",
       "      <td>-0.028117</td>\n",
       "      <td>0.009165</td>\n",
       "      <td>0.004954</td>\n",
       "      <td>-0.028243</td>\n",
       "      <td>-0.013543</td>\n",
       "      <td>-0.065090</td>\n",
       "      <td>-0.078647</td>\n",
       "      <td>-0.001328</td>\n",
       "      <td>0.022841</td>\n",
       "    </tr>\n",
       "    <tr>\n",
       "      <th>revives</th>\n",
       "      <td>-0.012209</td>\n",
       "      <td>-0.001581</td>\n",
       "      <td>0.000400</td>\n",
       "      <td>0.229206</td>\n",
       "      <td>0.256411</td>\n",
       "      <td>0.286839</td>\n",
       "      <td>0.303948</td>\n",
       "      <td>0.180959</td>\n",
       "      <td>0.250980</td>\n",
       "      <td>-0.281879</td>\n",
       "      <td>...</td>\n",
       "      <td>1.000000</td>\n",
       "      <td>0.089639</td>\n",
       "      <td>0.009194</td>\n",
       "      <td>0.027542</td>\n",
       "      <td>0.023516</td>\n",
       "      <td>0.026517</td>\n",
       "      <td>0.235192</td>\n",
       "      <td>0.178180</td>\n",
       "      <td>0.043845</td>\n",
       "      <td>0.252117</td>\n",
       "    </tr>\n",
       "    <tr>\n",
       "      <th>rideDistance</th>\n",
       "      <td>-0.010645</td>\n",
       "      <td>-0.004820</td>\n",
       "      <td>0.000064</td>\n",
       "      <td>0.086128</td>\n",
       "      <td>0.309713</td>\n",
       "      <td>0.124995</td>\n",
       "      <td>0.066648</td>\n",
       "      <td>0.063745</td>\n",
       "      <td>0.271841</td>\n",
       "      <td>-0.201115</td>\n",
       "      <td>...</td>\n",
       "      <td>0.089639</td>\n",
       "      <td>1.000000</td>\n",
       "      <td>0.111032</td>\n",
       "      <td>0.041869</td>\n",
       "      <td>0.026970</td>\n",
       "      <td>0.115267</td>\n",
       "      <td>0.304285</td>\n",
       "      <td>0.224936</td>\n",
       "      <td>0.096558</td>\n",
       "      <td>0.298231</td>\n",
       "    </tr>\n",
       "    <tr>\n",
       "      <th>roadKills</th>\n",
       "      <td>-0.003394</td>\n",
       "      <td>0.000427</td>\n",
       "      <td>-0.001834</td>\n",
       "      <td>0.010959</td>\n",
       "      <td>0.040541</td>\n",
       "      <td>0.050795</td>\n",
       "      <td>0.031435</td>\n",
       "      <td>0.017363</td>\n",
       "      <td>0.028966</td>\n",
       "      <td>-0.051331</td>\n",
       "      <td>...</td>\n",
       "      <td>0.009194</td>\n",
       "      <td>0.111032</td>\n",
       "      <td>1.000000</td>\n",
       "      <td>0.003024</td>\n",
       "      <td>0.006882</td>\n",
       "      <td>0.021396</td>\n",
       "      <td>0.024019</td>\n",
       "      <td>0.019353</td>\n",
       "      <td>0.012283</td>\n",
       "      <td>0.032018</td>\n",
       "    </tr>\n",
       "    <tr>\n",
       "      <th>swimDistance</th>\n",
       "      <td>-0.002310</td>\n",
       "      <td>0.000563</td>\n",
       "      <td>-0.000375</td>\n",
       "      <td>0.024340</td>\n",
       "      <td>0.116210</td>\n",
       "      <td>0.039271</td>\n",
       "      <td>0.018952</td>\n",
       "      <td>0.029616</td>\n",
       "      <td>0.079159</td>\n",
       "      <td>-0.091837</td>\n",
       "      <td>...</td>\n",
       "      <td>0.027542</td>\n",
       "      <td>0.041869</td>\n",
       "      <td>0.003024</td>\n",
       "      <td>1.000000</td>\n",
       "      <td>-0.001146</td>\n",
       "      <td>0.007991</td>\n",
       "      <td>0.169671</td>\n",
       "      <td>0.065313</td>\n",
       "      <td>0.018855</td>\n",
       "      <td>0.153884</td>\n",
       "    </tr>\n",
       "    <tr>\n",
       "      <th>teamKills</th>\n",
       "      <td>-0.001337</td>\n",
       "      <td>-0.001258</td>\n",
       "      <td>-0.000271</td>\n",
       "      <td>0.011087</td>\n",
       "      <td>-0.003703</td>\n",
       "      <td>0.057016</td>\n",
       "      <td>0.073703</td>\n",
       "      <td>0.014756</td>\n",
       "      <td>0.012177</td>\n",
       "      <td>-0.030334</td>\n",
       "      <td>...</td>\n",
       "      <td>0.023516</td>\n",
       "      <td>0.026970</td>\n",
       "      <td>0.006882</td>\n",
       "      <td>-0.001146</td>\n",
       "      <td>1.000000</td>\n",
       "      <td>0.122148</td>\n",
       "      <td>-0.006205</td>\n",
       "      <td>0.027646</td>\n",
       "      <td>0.000465</td>\n",
       "      <td>-0.009350</td>\n",
       "    </tr>\n",
       "    <tr>\n",
       "      <th>vehicleDestroys</th>\n",
       "      <td>-0.001666</td>\n",
       "      <td>-0.001413</td>\n",
       "      <td>-0.000293</td>\n",
       "      <td>0.041158</td>\n",
       "      <td>0.073214</td>\n",
       "      <td>0.063461</td>\n",
       "      <td>0.039660</td>\n",
       "      <td>0.030566</td>\n",
       "      <td>0.053522</td>\n",
       "      <td>-0.056616</td>\n",
       "      <td>...</td>\n",
       "      <td>0.026517</td>\n",
       "      <td>0.115267</td>\n",
       "      <td>0.021396</td>\n",
       "      <td>0.007991</td>\n",
       "      <td>0.122148</td>\n",
       "      <td>1.000000</td>\n",
       "      <td>0.067939</td>\n",
       "      <td>0.041836</td>\n",
       "      <td>0.018005</td>\n",
       "      <td>0.059246</td>\n",
       "    </tr>\n",
       "    <tr>\n",
       "      <th>walkDistance</th>\n",
       "      <td>-0.019023</td>\n",
       "      <td>-0.001274</td>\n",
       "      <td>-0.000413</td>\n",
       "      <td>0.260296</td>\n",
       "      <td>0.645988</td>\n",
       "      <td>0.363792</td>\n",
       "      <td>0.239429</td>\n",
       "      <td>0.237708</td>\n",
       "      <td>0.420389</td>\n",
       "      <td>-0.569906</td>\n",
       "      <td>...</td>\n",
       "      <td>0.235192</td>\n",
       "      <td>0.304285</td>\n",
       "      <td>0.024019</td>\n",
       "      <td>0.169671</td>\n",
       "      <td>-0.006205</td>\n",
       "      <td>0.067939</td>\n",
       "      <td>1.000000</td>\n",
       "      <td>0.435859</td>\n",
       "      <td>0.153265</td>\n",
       "      <td>0.802752</td>\n",
       "    </tr>\n",
       "    <tr>\n",
       "      <th>weaponsAcquired</th>\n",
       "      <td>-0.021083</td>\n",
       "      <td>0.001112</td>\n",
       "      <td>0.004713</td>\n",
       "      <td>0.345766</td>\n",
       "      <td>0.319813</td>\n",
       "      <td>0.452426</td>\n",
       "      <td>0.351893</td>\n",
       "      <td>0.301376</td>\n",
       "      <td>0.311968</td>\n",
       "      <td>-0.437775</td>\n",
       "      <td>...</td>\n",
       "      <td>0.178180</td>\n",
       "      <td>0.224936</td>\n",
       "      <td>0.019353</td>\n",
       "      <td>0.065313</td>\n",
       "      <td>0.027646</td>\n",
       "      <td>0.041836</td>\n",
       "      <td>0.435859</td>\n",
       "      <td>1.000000</td>\n",
       "      <td>0.091291</td>\n",
       "      <td>0.493132</td>\n",
       "    </tr>\n",
       "    <tr>\n",
       "      <th>winPoints</th>\n",
       "      <td>-0.039636</td>\n",
       "      <td>-0.000973</td>\n",
       "      <td>-0.001677</td>\n",
       "      <td>0.076914</td>\n",
       "      <td>0.136247</td>\n",
       "      <td>0.112647</td>\n",
       "      <td>0.085371</td>\n",
       "      <td>0.066726</td>\n",
       "      <td>0.085975</td>\n",
       "      <td>-0.140123</td>\n",
       "      <td>...</td>\n",
       "      <td>0.043845</td>\n",
       "      <td>0.096558</td>\n",
       "      <td>0.012283</td>\n",
       "      <td>0.018855</td>\n",
       "      <td>0.000465</td>\n",
       "      <td>0.018005</td>\n",
       "      <td>0.153265</td>\n",
       "      <td>0.091291</td>\n",
       "      <td>1.000000</td>\n",
       "      <td>0.178486</td>\n",
       "    </tr>\n",
       "    <tr>\n",
       "      <th>winPlacePerc</th>\n",
       "      <td>-0.024420</td>\n",
       "      <td>-0.003346</td>\n",
       "      <td>0.001441</td>\n",
       "      <td>0.303418</td>\n",
       "      <td>0.617536</td>\n",
       "      <td>0.428456</td>\n",
       "      <td>0.276430</td>\n",
       "      <td>0.280298</td>\n",
       "      <td>0.423645</td>\n",
       "      <td>-0.699453</td>\n",
       "      <td>...</td>\n",
       "      <td>0.252117</td>\n",
       "      <td>0.298231</td>\n",
       "      <td>0.032018</td>\n",
       "      <td>0.153884</td>\n",
       "      <td>-0.009350</td>\n",
       "      <td>0.059246</td>\n",
       "      <td>0.802752</td>\n",
       "      <td>0.493132</td>\n",
       "      <td>0.178486</td>\n",
       "      <td>1.000000</td>\n",
       "    </tr>\n",
       "  </tbody>\n",
       "</table>\n",
       "<p>26 rows × 26 columns</p>\n",
       "</div>"
      ],
      "text/plain": [
       "                       Id   groupId   matchId   assists    boosts  \\\n",
       "Id               1.000000  0.004035  0.030850 -0.025182 -0.025397   \n",
       "groupId          0.004035  1.000000  0.090008  0.002301 -0.002301   \n",
       "matchId          0.030850  0.090008  1.000000  0.003316 -0.000562   \n",
       "assists         -0.025182  0.002301  0.003316  1.000000  0.286071   \n",
       "boosts          -0.025397 -0.002301 -0.000562  0.286071  1.000000   \n",
       "damageDealt     -0.044239  0.001675  0.003449  0.477911  0.487304   \n",
       "DBNOs           -0.030377  0.002148  0.003826  0.401529  0.319702   \n",
       "headshotKills   -0.028651 -0.000701  0.000919  0.265030  0.324220   \n",
       "heals           -0.017471 -0.002050  0.000234  0.266253  0.533060   \n",
       "killPlace        0.036518  0.001827 -0.002725 -0.306454 -0.534764   \n",
       "killPoints      -0.058675 -0.002031 -0.006498  0.078364  0.154229   \n",
       "kills           -0.042120  0.002166  0.003081  0.396069  0.459945   \n",
       "killStreaks     -0.034703  0.001074  0.001704  0.267534  0.399408   \n",
       "longestKill     -0.024301 -0.001152  0.001712  0.272148  0.418899   \n",
       "maxPlace         0.004745 -0.002115  0.001197 -0.170885 -0.009867   \n",
       "numGroups        0.004797 -0.002257  0.001394 -0.171029 -0.010026   \n",
       "revives         -0.012209 -0.001581  0.000400  0.229206  0.256411   \n",
       "rideDistance    -0.010645 -0.004820  0.000064  0.086128  0.309713   \n",
       "roadKills       -0.003394  0.000427 -0.001834  0.010959  0.040541   \n",
       "swimDistance    -0.002310  0.000563 -0.000375  0.024340  0.116210   \n",
       "teamKills       -0.001337 -0.001258 -0.000271  0.011087 -0.003703   \n",
       "vehicleDestroys -0.001666 -0.001413 -0.000293  0.041158  0.073214   \n",
       "walkDistance    -0.019023 -0.001274 -0.000413  0.260296  0.645988   \n",
       "weaponsAcquired -0.021083  0.001112  0.004713  0.345766  0.319813   \n",
       "winPoints       -0.039636 -0.000973 -0.001677  0.076914  0.136247   \n",
       "winPlacePerc    -0.024420 -0.003346  0.001441  0.303418  0.617536   \n",
       "\n",
       "                 damageDealt     DBNOs  headshotKills     heals  killPlace  \\\n",
       "Id                 -0.044239 -0.030377      -0.028651 -0.017471   0.036518   \n",
       "groupId             0.001675  0.002148      -0.000701 -0.002050   0.001827   \n",
       "matchId             0.003449  0.003826       0.000919  0.000234  -0.002725   \n",
       "assists             0.477911  0.401529       0.265030  0.266253  -0.306454   \n",
       "boosts              0.487304  0.319702       0.324220  0.533060  -0.534764   \n",
       "damageDealt         1.000000  0.781660       0.647569  0.390635  -0.649783   \n",
       "DBNOs               0.781660  1.000000       0.535593  0.298390  -0.534726   \n",
       "headshotKills       0.647569  0.535593       1.000000  0.242832  -0.470289   \n",
       "heals               0.390635  0.298390       0.242832  1.000000  -0.393398   \n",
       "killPlace          -0.649783 -0.534726      -0.470289 -0.393398   1.000000   \n",
       "killPoints          0.206733  0.160775       0.138308  0.076341  -0.141270   \n",
       "kills               0.901621  0.764125       0.704099  0.354634  -0.694453   \n",
       "killStreaks         0.687643  0.634957       0.519274  0.294456  -0.803298   \n",
       "longestKill         0.537004  0.423096       0.437551  0.283223  -0.517692   \n",
       "maxPlace           -0.070483 -0.261151      -0.016750 -0.075055   0.067561   \n",
       "numGroups          -0.071406 -0.259682      -0.017949 -0.075803   0.068730   \n",
       "revives             0.286839  0.303948       0.180959  0.250980  -0.281879   \n",
       "rideDistance        0.124995  0.066648       0.063745  0.271841  -0.201115   \n",
       "roadKills           0.050795  0.031435       0.017363  0.028966  -0.051331   \n",
       "swimDistance        0.039271  0.018952       0.029616  0.079159  -0.091837   \n",
       "teamKills           0.057016  0.073703       0.014756  0.012177  -0.030334   \n",
       "vehicleDestroys     0.063461  0.039660       0.030566  0.053522  -0.056616   \n",
       "walkDistance        0.363792  0.239429       0.237708  0.420389  -0.569906   \n",
       "weaponsAcquired     0.452426  0.351893       0.301376  0.311968  -0.437775   \n",
       "winPoints           0.112647  0.085371       0.066726  0.085975  -0.140123   \n",
       "winPlacePerc        0.428456  0.276430       0.280298  0.423645  -0.699453   \n",
       "\n",
       "                     ...        revives  rideDistance  roadKills  \\\n",
       "Id                   ...      -0.012209     -0.010645  -0.003394   \n",
       "groupId              ...      -0.001581     -0.004820   0.000427   \n",
       "matchId              ...       0.000400      0.000064  -0.001834   \n",
       "assists              ...       0.229206      0.086128   0.010959   \n",
       "boosts               ...       0.256411      0.309713   0.040541   \n",
       "damageDealt          ...       0.286839      0.124995   0.050795   \n",
       "DBNOs                ...       0.303948      0.066648   0.031435   \n",
       "headshotKills        ...       0.180959      0.063745   0.017363   \n",
       "heals                ...       0.250980      0.271841   0.028966   \n",
       "killPlace            ...      -0.281879     -0.201115  -0.051331   \n",
       "killPoints           ...       0.060118      0.040974   0.012318   \n",
       "kills                ...       0.282013      0.089115   0.055707   \n",
       "killStreaks          ...       0.258439      0.079758   0.057541   \n",
       "longestKill          ...       0.178532      0.187846   0.030312   \n",
       "maxPlace             ...      -0.152581     -0.024617   0.010439   \n",
       "numGroups            ...      -0.151593     -0.028117   0.009165   \n",
       "revives              ...       1.000000      0.089639   0.009194   \n",
       "rideDistance         ...       0.089639      1.000000   0.111032   \n",
       "roadKills            ...       0.009194      0.111032   1.000000   \n",
       "swimDistance         ...       0.027542      0.041869   0.003024   \n",
       "teamKills            ...       0.023516      0.026970   0.006882   \n",
       "vehicleDestroys      ...       0.026517      0.115267   0.021396   \n",
       "walkDistance         ...       0.235192      0.304285   0.024019   \n",
       "weaponsAcquired      ...       0.178180      0.224936   0.019353   \n",
       "winPoints            ...       0.043845      0.096558   0.012283   \n",
       "winPlacePerc         ...       0.252117      0.298231   0.032018   \n",
       "\n",
       "                 swimDistance  teamKills  vehicleDestroys  walkDistance  \\\n",
       "Id                  -0.002310  -0.001337        -0.001666     -0.019023   \n",
       "groupId              0.000563  -0.001258        -0.001413     -0.001274   \n",
       "matchId             -0.000375  -0.000271        -0.000293     -0.000413   \n",
       "assists              0.024340   0.011087         0.041158      0.260296   \n",
       "boosts               0.116210  -0.003703         0.073214      0.645988   \n",
       "damageDealt          0.039271   0.057016         0.063461      0.363792   \n",
       "DBNOs                0.018952   0.073703         0.039660      0.239429   \n",
       "headshotKills        0.029616   0.014756         0.030566      0.237708   \n",
       "heals                0.079159   0.012177         0.053522      0.420389   \n",
       "killPlace           -0.091837  -0.030334        -0.056616     -0.569906   \n",
       "killPoints          -0.003736   0.006041         0.020383      0.099281   \n",
       "kills                0.039846   0.025248         0.055061      0.336521   \n",
       "killStreaks          0.038925   0.032850         0.046508      0.320220   \n",
       "longestKill          0.061173   0.003427         0.072108      0.417109   \n",
       "maxPlace             0.004725  -0.027538        -0.012981     -0.064428   \n",
       "numGroups            0.004954  -0.028243        -0.013543     -0.065090   \n",
       "revives              0.027542   0.023516         0.026517      0.235192   \n",
       "rideDistance         0.041869   0.026970         0.115267      0.304285   \n",
       "roadKills            0.003024   0.006882         0.021396      0.024019   \n",
       "swimDistance         1.000000  -0.001146         0.007991      0.169671   \n",
       "teamKills           -0.001146   1.000000         0.122148     -0.006205   \n",
       "vehicleDestroys      0.007991   0.122148         1.000000      0.067939   \n",
       "walkDistance         0.169671  -0.006205         0.067939      1.000000   \n",
       "weaponsAcquired      0.065313   0.027646         0.041836      0.435859   \n",
       "winPoints            0.018855   0.000465         0.018005      0.153265   \n",
       "winPlacePerc         0.153884  -0.009350         0.059246      0.802752   \n",
       "\n",
       "                 weaponsAcquired  winPoints  winPlacePerc  \n",
       "Id                     -0.021083  -0.039636     -0.024420  \n",
       "groupId                 0.001112  -0.000973     -0.003346  \n",
       "matchId                 0.004713  -0.001677      0.001441  \n",
       "assists                 0.345766   0.076914      0.303418  \n",
       "boosts                  0.319813   0.136247      0.617536  \n",
       "damageDealt             0.452426   0.112647      0.428456  \n",
       "DBNOs                   0.351893   0.085371      0.276430  \n",
       "headshotKills           0.301376   0.066726      0.280298  \n",
       "heals                   0.311968   0.085975      0.423645  \n",
       "killPlace              -0.437775  -0.140123     -0.699453  \n",
       "killPoints              0.013778   0.451435      0.089627  \n",
       "kills                   0.431025   0.096660      0.406972  \n",
       "killStreaks             0.280596   0.088877      0.380487  \n",
       "longestKill             0.287146   0.113967      0.409240  \n",
       "maxPlace               -0.075816  -0.002506      0.021787  \n",
       "numGroups              -0.078647  -0.001328      0.022841  \n",
       "revives                 0.178180   0.043845      0.252117  \n",
       "rideDistance            0.224936   0.096558      0.298231  \n",
       "roadKills               0.019353   0.012283      0.032018  \n",
       "swimDistance            0.065313   0.018855      0.153884  \n",
       "teamKills               0.027646   0.000465     -0.009350  \n",
       "vehicleDestroys         0.041836   0.018005      0.059246  \n",
       "walkDistance            0.435859   0.153265      0.802752  \n",
       "weaponsAcquired         1.000000   0.091291      0.493132  \n",
       "winPoints               0.091291   1.000000      0.178486  \n",
       "winPlacePerc            0.493132   0.178486      1.000000  \n",
       "\n",
       "[26 rows x 26 columns]"
      ]
     },
     "execution_count": 53,
     "metadata": {},
     "output_type": "execute_result"
    }
   ],
   "source": [
    "corr"
   ]
  },
  {
   "cell_type": "code",
   "execution_count": 54,
   "metadata": {},
   "outputs": [
    {
     "data": {
      "image/png": "[encoded data removed]",
      "text/plain": [
       "<Figure size 1872x1872 with 1 Axes>"
      ]
     },
     "metadata": {},
     "output_type": "display_data"
    }
   ],
   "source": [
    "fig,ax = plt.subplots(figsize=(26,26))\n",
    "ax.matshow(corr)\n",
    "plt.xticks(range(len(corr.columns)),corr.columns)\n",
    "plt.yticks(range(len(corr.columns)),corr.columns)\n",
    "plt.show()"
   ]
  },
  {
   "cell_type": "code",
   "execution_count": 4,
   "metadata": {},
   "outputs": [],
   "source": [
    "#df=pubg_train.drop(['Id','groupId','matchId','killPlace','teamKills'],axis=1,inplace=False)\n",
    "df=pubg_train.drop(['walkDistance','boosts'],axis=1,inplace=False)"
   ]
  },
  {
   "cell_type": "code",
   "execution_count": 5,
   "metadata": {},
   "outputs": [
    {
     "data": {
      "text/plain": [
       "Index(['Id', 'groupId', 'matchId', 'assists', 'damageDealt', 'DBNOs',\n",
       "       'headshotKills', 'heals', 'killPlace', 'killPoints', 'kills',\n",
       "       'killStreaks', 'longestKill', 'maxPlace', 'numGroups', 'revives',\n",
       "       'rideDistance', 'roadKills', 'swimDistance', 'teamKills',\n",
       "       'vehicleDestroys', 'weaponsAcquired', 'winPoints', 'winPlacePerc'],\n",
       "      dtype='object')"
      ]
     },
     "execution_count": 5,
     "metadata": {},
     "output_type": "execute_result"
    }
   ],
   "source": [
    "df.columns"
   ]
  },
  {
   "cell_type": "code",
   "execution_count": 8,
   "metadata": {},
   "outputs": [],
   "source": [
    "\n",
    "X=df.drop(['winPlacePerc'],axis=1)\n",
    "y=df['winPlacePerc']\n",
    "\n",
    "dfx_train, dfx_test, dfy_train, dfy_test = train_test_split(X, y, test_size=0.3, random_state=22,shuffle=True)"
   ]
  },
  {
   "cell_type": "code",
   "execution_count": 16,
   "metadata": {},
   "outputs": [
    {
     "ename": "TypeError",
     "evalue": "__init__() got an unexpected keyword argument 'regularization'",
     "output_type": "error",
     "traceback": [
      "\u001b[1;31m---------------------------------------------------------------------------\u001b[0m",
      "\u001b[1;31mTypeError\u001b[0m                                 Traceback (most recent call last)",
      "\u001b[1;32m<ipython-input-16-8eb708ee3628>\u001b[0m in \u001b[0;36m<module>\u001b[1;34m()\u001b[0m\n\u001b[0;32m      5\u001b[0m \u001b[0mdfx_test\u001b[0m \u001b[1;33m=\u001b[0m \u001b[0mscaler\u001b[0m\u001b[1;33m.\u001b[0m\u001b[0mtransform\u001b[0m\u001b[1;33m(\u001b[0m\u001b[0mdfx_test\u001b[0m\u001b[1;33m)\u001b[0m\u001b[1;33m\u001b[0m\u001b[0m\n\u001b[0;32m      6\u001b[0m \u001b[1;31m#mlp = MLPRegressor(solver='adam',hidden_layer_sizes=(5, 2), random_state=1)\u001b[0m\u001b[1;33m\u001b[0m\u001b[1;33m\u001b[0m\u001b[0m\n\u001b[1;32m----> 7\u001b[1;33m \u001b[0mmlp\u001b[0m \u001b[1;33m=\u001b[0m \u001b[0mMLPRegressor\u001b[0m\u001b[1;33m(\u001b[0m\u001b[0mregularization\u001b[0m\u001b[1;33m=\u001b[0m\u001b[1;36m1\u001b[0m\u001b[1;33m,\u001b[0m \u001b[0moutput_shrink\u001b[0m\u001b[1;33m=\u001b[0m\u001b[1;36m0.1\u001b[0m\u001b[1;33m,\u001b[0m \u001b[0moutput_range\u001b[0m\u001b[1;33m=\u001b[0m\u001b[1;33m[\u001b[0m\u001b[1;33m-\u001b[0m\u001b[1;36m1\u001b[0m\u001b[1;33m,\u001b[0m\u001b[1;36m1\u001b[0m\u001b[1;33m]\u001b[0m\u001b[1;33m,\u001b[0m \u001b[0mloss_type\u001b[0m\u001b[1;33m=\u001b[0m\u001b[1;34m\"hardmse\"\u001b[0m\u001b[1;33m)\u001b[0m\u001b[1;33m\u001b[0m\u001b[0m\n\u001b[0m",
      "\u001b[1;31mTypeError\u001b[0m: __init__() got an unexpected keyword argument 'regularization'"
     ]
    }
   ],
   "source": [
    "scaler = StandardScaler()\n",
    "# Fit only to the training data\n",
    "scaler.fit(dfx_train)\n",
    "dfx_train = scaler.transform(dfx_train)\n",
    "dfx_test = scaler.transform(dfx_test)\n",
    "mlp = MLPRegressor(solver='adam',hidden_layer_sizes=(5, 2), random_state=1)\n",
    "\n"
   ]
  },
  {
   "cell_type": "code",
   "execution_count": 12,
   "metadata": {},
   "outputs": [
    {
     "data": {
      "text/plain": [
       "MLPRegressor(activation='relu', alpha=0.0001, batch_size='auto', beta_1=0.9,\n",
       "       beta_2=0.999, early_stopping=False, epsilon=1e-08,\n",
       "       hidden_layer_sizes=(5, 2), learning_rate='constant',\n",
       "       learning_rate_init=0.001, max_iter=200, momentum=0.9,\n",
       "       nesterovs_momentum=True, power_t=0.5, random_state=1, shuffle=True,\n",
       "       solver='adam', tol=0.0001, validation_fraction=0.1, verbose=False,\n",
       "       warm_start=False)"
      ]
     },
     "execution_count": 12,
     "metadata": {},
     "output_type": "execute_result"
    }
   ],
   "source": [
    "mlp.fit(dfx_train,dfy_train)"
   ]
  },
  {
   "cell_type": "code",
   "execution_count": 13,
   "metadata": {},
   "outputs": [],
   "source": [
    "df_pred=mlp.predict(dfx_test)"
   ]
  },
  {
   "cell_type": "code",
   "execution_count": 14,
   "metadata": {},
   "outputs": [
    {
     "name": "stdout",
     "output_type": "stream",
     "text": [
      "Variance score (r2_score): 0.812599\n",
      "Model accuracy:81.26 \n"
     ]
    }
   ],
   "source": [
    "# r2_score score: 1 is perfect prediction\n",
    "mlp_score=mlp.score(dfx_test,dfy_test)\n",
    "print(\"Variance score (r2_score): %f\"%mlp_score)\n",
    "print('Model accuracy:%.2f '%(mlp_score*100))\n",
    " "
   ]
  },
  {
   "cell_type": "markdown",
   "metadata": {},
   "source": [
    " #### Oops it backfired..."
   ]
  },
  {
   "cell_type": "code",
   "execution_count": null,
   "metadata": {},
   "outputs": [],
   "source": []
  }
 ],
 "metadata": {
  "kernelspec": {
   "display_name": "Python 3",
   "language": "python",
   "name": "python3"
  }
 },
 "nbformat": 4,
 "nbformat_minor": 2
}
